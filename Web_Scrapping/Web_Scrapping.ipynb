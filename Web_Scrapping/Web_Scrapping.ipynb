{
 "cells": [
  {
   "cell_type": "code",
   "execution_count": 7,
   "metadata": {},
   "outputs": [],
   "source": [
    "import selenium as sl\n",
    "from bs4 import BeautifulSoup\n",
    "from selenium import webdriver\n",
    "from selenium.webdriver.common.keys import Keys\n",
    "from selenium.webdriver.support.ui import WebDriverWait\n",
    "from selenium.webdriver.support import expected_conditions as EC\n",
    "import time\n",
    "import pandas as pd\n",
    "import seaborn as sns\n",
    "import os"
   ]
  },
  {
   "cell_type": "code",
   "execution_count": 13,
   "metadata": {},
   "outputs": [
    {
     "name": "stdout",
     "output_type": "stream",
     "text": [
      "Note: you may need to restart the kernel to use updated packages.\n"
     ]
    }
   ],
   "source": [
    "pip freeze > requirements.txt"
   ]
  },
  {
   "cell_type": "code",
   "execution_count": 8,
   "metadata": {},
   "outputs": [
    {
     "name": "stderr",
     "output_type": "stream",
     "text": [
      "/home/shade/.local/lib/python3.7/site-packages/ipykernel_launcher.py:6: DeprecationWarning: use driver.switch_to.frame instead\n",
      "  \n"
     ]
    },
    {
     "name": "stdout",
     "output_type": "stream",
     "text": [
      "notificacion\n",
      "2\n",
      "notificacion\n",
      "3\n",
      "notificacion\n",
      "4\n",
      "notificacion\n",
      "5\n",
      "notificacion\n",
      "6\n",
      "notificacion\n",
      "7\n",
      "notificacion\n",
      "8\n",
      "notificacion\n",
      "9\n",
      "notificacion\n",
      "10\n"
     ]
    }
   ],
   "source": [
    "driver = webdriver.Firefox(executable_path=os.path.join(os.getcwd(), 'geckodriver'))\n",
    "driver.maximize_window()\n",
    "driver.get(\"https://www.runtouravianca.com/resultados.php\")\n",
    "\n",
    "iframe = driver.find_element_by_css_selector('iframe')\n",
    "driver.switch_to_frame(iframe)\n",
    "\n",
    "numero_competencia = []\n",
    "p_general = []\n",
    "p_grupo = []\n",
    "tiempo = []\n",
    "tiempo_chip = []\n",
    "categoria = []\n",
    "genero = []\n",
    "\n",
    "for i in range(1,10):\n",
    "    try:\n",
    "        WebDriverWait(driver, 1).until(EC.alert_is_present(),\n",
    "                                   'Timed out waiting for PA creation ' +\n",
    "                                   'confirmation popup to appear.')\n",
    "        \n",
    "        alert = driver.switch_to.alert\n",
    "        alert.dismiss()\n",
    "    except:\n",
    "        print('notificacion')\n",
    "        \n",
    "    driver.find_element_by_id('numero').clear()\n",
    "    print (i+1)\n",
    "    driver.find_element_by_id('numero').send_keys(\"{}\".format(i+1))\n",
    "    driver.find_element_by_id('buscar').click()\n",
    "    \n",
    "    try:\n",
    "        WebDriverWait(driver, 1).until(EC.alert_is_present(),\n",
    "                                   'Timed out waiting for PA creation ' +\n",
    "                                   'confirmation popup to appear.')\n",
    "        \n",
    "        alert = driver.switch_to.alert\n",
    "        alert.dismiss()\n",
    "        next\n",
    "    except:\n",
    "        soup = BeautifulSoup(driver.page_source, 'html.parser')\n",
    "        tabla = soup.findAll('table')\n",
    "        datos = tabla[0].findAll('td')\n",
    "\n",
    "        driver.execute_script(\"window.history.go(-1)\")\n",
    "\n",
    "        numero_competencia.append(i+1)\n",
    "        p_general.append(datos[3].text)\n",
    "        p_grupo.append(datos[5].text)\n",
    "        tiempo.append(datos[7].text)\n",
    "        tiempo_chip.append(datos[9].text)\n",
    "        categoria.append(datos[11].text)\n",
    "        genero.append(datos[13].text)\n"
   ]
  },
  {
   "cell_type": "code",
   "execution_count": 9,
   "metadata": {},
   "outputs": [],
   "source": [
    "data = pd.DataFrame(zip(numero_competencia, p_general, p_grupo, tiempo, tiempo_chip, categoria, genero), columns=['Numero_compentencia','Posicion_general','Posicion_grupo','Tiempo_carrera','Tiempo_chip','Categoria','Genero'])"
   ]
  },
  {
   "cell_type": "code",
   "execution_count": 10,
   "metadata": {},
   "outputs": [
    {
     "data": {
      "text/plain": [
       "10"
      ]
     },
     "execution_count": 10,
     "metadata": {},
     "output_type": "execute_result"
    }
   ],
   "source": [
    "data['Numero_compentencia'].max()"
   ]
  },
  {
   "cell_type": "code",
   "execution_count": 11,
   "metadata": {},
   "outputs": [],
   "source": [
    "data.to_csv('registros_1_to_10.csv')"
   ]
  },
  {
   "cell_type": "code",
   "execution_count": 12,
   "metadata": {},
   "outputs": [
    {
     "data": {
      "text/plain": [
       "<seaborn.axisgrid.FacetGrid at 0x7fb6491e9b90>"
      ]
     },
     "execution_count": 12,
     "metadata": {},
     "output_type": "execute_result"
    },
    {
     "data": {
      "image/png": "[encoded data removed]",
      "text/plain": [
       "<Figure size 432x432 with 1 Axes>"
      ]
     },
     "metadata": {
      "needs_background": "light"
     },
     "output_type": "display_data"
    }
   ],
   "source": [
    "g = sns.catplot(x='Categoria', y='Numero_compentencia', data=data,\n",
    "                height=6, kind=\"bar\", palette=\"muted\")\n",
    "g.despine(left=True)\n",
    "g.set_ylabels(\"survival probability\")"
   ]
  }
 ],
 "metadata": {
  "kernelspec": {
   "display_name": "Python 3",
   "language": "python",
   "name": "python3"
  },
  "language_info": {
   "codemirror_mode": {
    "name": "ipython",
    "version": 3
   },
   "file_extension": ".py",
   "mimetype": "text/x-python",
   "name": "python",
   "nbconvert_exporter": "python",
   "pygments_lexer": "ipython3",
   "version": "3.7.4"
  }
 },
 "nbformat": 4,
 "nbformat_minor": 2
}
